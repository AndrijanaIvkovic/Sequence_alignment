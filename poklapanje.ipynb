{
 "cells": [
  {
   "cell_type": "code",
   "execution_count": 1,
   "metadata": {},
   "outputs": [],
   "source": [
    "def poklapanje(s1, s2):\n",
    "    a=len(s1)\n",
    "    b=len(s2)\n",
    "    br_d=0\n",
    "    br_l=0    \n",
    "    maxx=0\n",
    "    min_br=0"
   ]
  },
  {
   "cell_type": "markdown",
   "metadata": {},
   "source": [
    "Ova funkcija vraca najveci broj poklapanja i koliko je minimalnih rotacija izvrseno do najveceg poklapanja. \n",
    "a i b su duzine stringova s1 i s2.\n",
    "br_d i br_l su brojaci koji broje rotacije u desno i u levo, maxx je maksimalan broj poklapanja, a min_br broji rotacije."
   ]
  },
  {
   "cell_type": "code",
   "execution_count": null,
   "metadata": {},
   "outputs": [],
   "source": [
    " # desna rotacija\n",
    "    for i in range(a):\n",
    "        max_d=0\n",
    "        # proverava koji je string duzi da bi znali do kog clana stringa proveravamo poklapanje\n",
    "        if(a<=b):\n",
    "            for j in range(a):\n",
    "                if(s1[j]==s2[j]):\n",
    "                    max_d+=1\n",
    "            # cuvamo najveci\n",
    "            if(max_d==maxx)and(br_d<min_br):\n",
    "                maxx=max_d\n",
    "                min_br=br_d\n",
    "            if(max_d>maxx):\n",
    "                maxx=max_d\n",
    "                min_br=br_d\n",
    "            # rotacija u desno            \n",
    "            s1=s1[-1]+s1[:-1]\n",
    "            br_d+=1\n",
    "        else:\n",
    "            for j in range(b):\n",
    "                if(s1[j]==s2[j]):\n",
    "                    max_d+=1\n",
    "            if(max_d==maxx)and(br_d<min_br):\n",
    "                maxx=max_d\n",
    "                min_br=br_d\n",
    "            if(max_d>maxx):\n",
    "                maxx=max_d\n",
    "                min_br=br_d\n",
    "            s1=s1[-1]+s1[:-1]            \n",
    "            br_d+=1"
   ]
  },
  {
   "cell_type": "markdown",
   "metadata": {},
   "source": [
    "Ovaj deo koda radi rotaciju u desno. \n",
    "Rotaciju izvrsava toliko puta kolika je duzina prvog stringa (a). \n",
    "Posto stringovi ne moraju biti iste duzine moramo odrediti koji je kraci da bi do tog clana mogli da uporedjujemo sa ovim duzim.\n",
    "Ako je a-prvi manji onda uporedjujemo indekse do poslednjeg clana stringa a i za svako poklapanje uvecavamo brojac\n",
    "max_d (on se nakon svake rotacije resetuje).\n",
    "U sledecem koraku cuvamo najvece poklapanje. Posto se moze desiti da obe rotacije imaju isti broj poklapanja,\n",
    "onda gledamo koje je manje puta rotirao niz da bi dosao do tog poklapanja, sto nam je najoptimalnije resenje.\n",
    "Zatim se vrsi rotacija tako sto se poslednji clan stavi na prvo mesto i doda se ostatak stringa.\n",
    "I na kraju se uvecava brojac koji broji rotacije.\n",
    "Drugi deo koda je identican prvom, samo za slucaj da je b-drugi kraci od a."
   ]
  },
  {
   "cell_type": "code",
   "execution_count": null,
   "metadata": {},
   "outputs": [],
   "source": [
    "  # leva rotacija\n",
    "    for i in range(a):\n",
    "        max_l=0\n",
    "        # proverava koji je string duzi da bi znali do kog clana stringa proveravamo poklapanje\n",
    "        if(a<=b):\n",
    "            for j in range(a):\n",
    "                if(s1[j]==s2[j]):\n",
    "                    max_l+=1\n",
    "            # cuvamo najveci\n",
    "            if(max_l==maxx)and(br_l<min_br):\n",
    "                maxx=max_l\n",
    "                min_br=br_l\n",
    "            if(max_l>maxx):\n",
    "                maxx=max_l\n",
    "                min_br=br_l\n",
    "            # rotacija u levo\n",
    "            s1=s1[1:]+s1[0]\n",
    "            br_l+=1\n",
    "        else:\n",
    "            for j in range(b):\n",
    "                if(s1[j]==s2[j]):\n",
    "                    max_l+=1\n",
    "            if(max_l==maxx)and(br_l<min_br):\n",
    "                maxx=max_l\n",
    "                min_br=br_l\n",
    "            if(max_l>maxx):\n",
    "                maxx=max_l\n",
    "                min_br=br_l\n",
    "            s1=s1[1:]+s1[0]\n",
    "            br_l+=1"
   ]
  },
  {
   "cell_type": "markdown",
   "metadata": {},
   "source": [
    "Ovaj deo koda radi rotaciju u levo na identican nacin kao u prethodnom delu, samo sto se uzima sve osim prvog clana i onda se\n",
    "prvi zalepi na kraj."
   ]
  },
  {
   "cell_type": "code",
   "execution_count": null,
   "metadata": {},
   "outputs": [],
   "source": [
    "return (maxx, min_br)"
   ]
  },
  {
   "cell_type": "markdown",
   "metadata": {},
   "source": [
    "Vracamo vrednost funkcije - maksimalan broj poklapanja za minimalan broj rotacija"
   ]
  },
  {
   "cell_type": "code",
   "execution_count": null,
   "metadata": {},
   "outputs": [],
   "source": [
    "s1 = \"CTTCGAAAGCCATT\"\n",
    "s2 = \"AACCTAGGCCA\" \n",
    "\n",
    "\n",
    "poklapanje(s1, s2)\n",
    "\n",
    "print(s1)\n",
    "print(s2)\n",
    "\n",
    "print(poklapanje(s1,s2))"
   ]
  },
  {
   "cell_type": "markdown",
   "metadata": {},
   "source": [
    "Pozivamo funkcija za zadata dva stringa."
   ]
  }
 ],
 "metadata": {
  "kernelspec": {
   "display_name": "Python 3",
   "language": "python",
   "name": "python3"
  },
  "language_info": {
   "codemirror_mode": {
    "name": "ipython",
    "version": 3
   },
   "file_extension": ".py",
   "mimetype": "text/x-python",
   "name": "python",
   "nbconvert_exporter": "python",
   "pygments_lexer": "ipython3",
   "version": "3.7.4"
  }
 },
 "nbformat": 4,
 "nbformat_minor": 2
}
