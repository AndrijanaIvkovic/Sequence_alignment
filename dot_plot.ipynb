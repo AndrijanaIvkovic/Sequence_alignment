{
 "cells": [
  {
   "cell_type": "code",
   "execution_count": 1,
   "metadata": {},
   "outputs": [
    {
     "name": "stdout",
     "output_type": "stream",
     "text": [
      " |AACCTAGGCCA\n",
      "-------------\n",
      "C|  ■■    ■■ \n",
      "T|    ■      \n",
      "T|    ■      \n",
      "C|  ■■    ■■ \n",
      "G|      ■■   \n",
      "A|■■   ■    ■\n",
      "A|■■   ■    ■\n",
      "A|■■   ■    ■\n",
      "G|      ■■   \n",
      "C|  ■■    ■■ \n",
      "C|  ■■    ■■ \n",
      "A|■■   ■    ■\n",
      "T|    ■      \n",
      "T|    ■      \n"
     ]
    }
   ],
   "source": [
    "def delta(x,y):\n",
    "    return 0 if x == y else 1\n",
    "\n",
    "def M(seq1,seq2,i,j,k):\n",
    "    return sum(delta(x,y) for x,y in zip(seq1[i:i+k],seq2[j:j+k]))\n",
    "\n",
    "def makeMatrix(seq1,seq2,k):\n",
    "    n = len(seq1)\n",
    "    m = len(seq2)\n",
    "    return [[M(seq1,seq2,i,j,k) for j in range(m-k+1)] for i in range(n-k+1)]\n",
    "\n",
    "def plotMatrix(M,t, seq1, seq2, nonblank = chr(0x25A0), blank = ' '):\n",
    "    print(' |' + seq2)\n",
    "    print('-'*(2 + len(seq2)))\n",
    "    for label,row in zip(seq1,M):\n",
    "        line = ''.join(nonblank if s < t else blank for s in row)\n",
    "        print(label + '|' + line)\n",
    "        \n",
    "def dotplot(seq1,seq2,k = 1,t = 1):\n",
    "    M = makeMatrix(seq1,seq2,k)\n",
    "    plotMatrix(M, t, seq1,seq2) \n",
    "    \n",
    "seqx = \"CTTCGAAAGCCATT\"\n",
    "seqy = \"AACCTAGGCCA\"\n",
    "dotplot(seqx,seqy)"
   ]
  },
  {
   "cell_type": "markdown",
   "metadata": {},
   "source": [
    "Vizuelno poravnanje sekvenci pomocu dot plot.\n",
    "Unosimo dve sekvence, pravimo matricu od njih i plotujemo tu matricu. Plotujemo tako da nam je na x osi jedna sekvenca, a na y osi druga. Uzimamo po jedan clan reda i uporedjujemo sa svakim clanom kolone i ukoliko se clanovi poklapaju iscrtava se tacka, a ako se razlikuju onda ostaje prazno mesto."
   ]
  }
 ],
 "metadata": {
  "kernelspec": {
   "display_name": "Python 3",
   "language": "python",
   "name": "python3"
  },
  "language_info": {
   "codemirror_mode": {
    "name": "ipython",
    "version": 3
   },
   "file_extension": ".py",
   "mimetype": "text/x-python",
   "name": "python",
   "nbconvert_exporter": "python",
   "pygments_lexer": "ipython3",
   "version": "3.7.4"
  }
 },
 "nbformat": 4,
 "nbformat_minor": 2
}
