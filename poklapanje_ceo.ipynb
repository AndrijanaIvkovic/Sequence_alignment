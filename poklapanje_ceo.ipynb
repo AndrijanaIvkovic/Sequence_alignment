{
 "cells": [
  {
   "cell_type": "code",
   "execution_count": 1,
   "metadata": {},
   "outputs": [
    {
     "name": "stdout",
     "output_type": "stream",
     "text": [
      "CTTCGAAAGCCATT\n",
      "AACCTAGGCCA\n",
      "(6, 1)\n"
     ]
    }
   ],
   "source": [
    "def poklapanje(s1, s2): \n",
    "    a=len(s1) \n",
    "    b=len(s2) \n",
    "    br_d=0 \n",
    "    br_l=0 \n",
    "    maxx=0 \n",
    "    min_br=0 \n",
    "    # desna rotacija\n",
    "    for i in range(a): \n",
    "        max_d=0 \n",
    "        # proverava koji je string duzi da bi znali do kog clana stringa proveravamo poklapanje\n",
    "        if(a<=b): \n",
    "            for j in range(a):\n",
    "                if(s1[j]==s2[j]):\n",
    "                    max_d+=1\n",
    "            # cuvamo najveci\n",
    "            if(max_d==maxx)and(br_d<min_br):\n",
    "                maxx=max_d\n",
    "                min_br=br_d\n",
    "            if(max_d>maxx):\n",
    "                maxx=max_d\n",
    "                min_br=br_d\n",
    "            # rotacija u desno            \n",
    "            s1=s1[-1]+s1[:-1]\n",
    "            br_d+=1\n",
    "        else:\n",
    "            for j in range(b):\n",
    "                if(s1[j]==s2[j]):\n",
    "                    max_d+=1\n",
    "            if(max_d==maxx)and(br_d<min_br):\n",
    "                maxx=max_d\n",
    "                min_br=br_d\n",
    "            if(max_d>maxx):\n",
    "                maxx=max_d\n",
    "                min_br=br_d\n",
    "            s1=s1[-1]+s1[:-1]            \n",
    "            br_d+=1\n",
    "    # leva rotacija\n",
    "    for i in range(a):\n",
    "        max_l=0\n",
    "        # proverava koji je string duzi da bi znali do kog clana stringa proveravamo poklapanje\n",
    "        if(a<=b):\n",
    "            for j in range(a):\n",
    "                if(s1[j]==s2[j]):\n",
    "                    max_l+=1\n",
    "            # cuvamo najveci\n",
    "            if(max_l==maxx)and(br_l<min_br):\n",
    "                maxx=max_l\n",
    "                min_br=br_l\n",
    "            if(max_l>maxx):\n",
    "                maxx=max_l\n",
    "                min_br=br_l\n",
    "            # rotacija u levo\n",
    "            s1=s1[1:]+s1[0]\n",
    "            br_l+=1\n",
    "        else:\n",
    "            for j in range(b):\n",
    "                if(s1[j]==s2[j]):\n",
    "                    max_l+=1\n",
    "            if(max_l==maxx)and(br_l<min_br):\n",
    "                maxx=max_l\n",
    "                min_br=br_l\n",
    "            if(max_l>maxx):\n",
    "                maxx=max_l\n",
    "                min_br=br_l\n",
    "            s1=s1[1:]+s1[0]\n",
    "            br_l+=1\n",
    "    return (maxx, min_br)\n",
    "\n",
    "s1 = \"CTTCGAAAGCCATT\"\n",
    "s2 = \"AACCTAGGCCA\" \n",
    "\n",
    "\n",
    "poklapanje(s1, s2)\n",
    "\n",
    "print(s1)\n",
    "print(s2)\n",
    "\n",
    "print(poklapanje(s1,s2))"
   ]
  },
  {
   "cell_type": "code",
   "execution_count": null,
   "metadata": {},
   "outputs": [],
   "source": []
  }
 ],
 "metadata": {
  "kernelspec": {
   "display_name": "Python 3",
   "language": "python",
   "name": "python3"
  },
  "language_info": {
   "codemirror_mode": {
    "name": "ipython",
    "version": 3
   },
   "file_extension": ".py",
   "mimetype": "text/x-python",
   "name": "python",
   "nbconvert_exporter": "python",
   "pygments_lexer": "ipython3",
   "version": "3.7.4"
  }
 },
 "nbformat": 4,
 "nbformat_minor": 2
}
